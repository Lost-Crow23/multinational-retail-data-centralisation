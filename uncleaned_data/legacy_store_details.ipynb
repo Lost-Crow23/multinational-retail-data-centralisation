{
 "cells": [
  {
   "cell_type": "code",
   "execution_count": 34,
   "metadata": {},
   "outputs": [
    {
     "ename": "ModuleNotFoundError",
     "evalue": "No module named 'database_utils'",
     "output_type": "error",
     "traceback": [
      "\u001b[0;31m---------------------------------------------------------------------------\u001b[0m",
      "\u001b[0;31mModuleNotFoundError\u001b[0m                       Traceback (most recent call last)",
      "Cell \u001b[0;32mIn[34], line 2\u001b[0m\n\u001b[1;32m      1\u001b[0m \u001b[38;5;28;01mimport\u001b[39;00m \u001b[38;5;21;01mos\u001b[39;00m \n\u001b[0;32m----> 2\u001b[0m \u001b[38;5;28;01mfrom\u001b[39;00m \u001b[38;5;21;01mdatabase_utils\u001b[39;00m \u001b[38;5;28;01mimport\u001b[39;00m DatabaseConnector\n\u001b[1;32m      3\u001b[0m \u001b[38;5;28;01mimport\u001b[39;00m \u001b[38;5;21;01mpandas\u001b[39;00m \u001b[38;5;28;01mas\u001b[39;00m \u001b[38;5;21;01mpd\u001b[39;00m\n\u001b[1;32m      6\u001b[0m \u001b[38;5;28;01mdef\u001b[39;00m \u001b[38;5;21mrestore_uncleaned_data\u001b[39m(engine, table_name):\n",
      "\u001b[0;31mModuleNotFoundError\u001b[0m: No module named 'database_utils'"
     ]
    }
   ],
   "source": [
    "import os \n",
    "from database_utils import DatabaseConnector\n",
    "import pandas as pd\n",
    "\n",
    "\n",
    "def restore_uncleaned_data(engine, table_name):\n",
    "  os.markedirs(\"./uncleaned_data\", exist_ok=True)\n",
    "  df = pd.read_sql_table(table_name, engine)\n",
    "  df.to_csv(f\"./uncleaned_data/{table_name}.csv\", index=False)\n",
    "  return df\n",
    "\n",
    "if __name__ == \"__main__\":\n",
    "  connec = DatabaseConnector()\n",
    "  connec.read_db_creds()\n",
    "  engine = connec.init_db_engine()\n",
    "  table_list = connec.list_db_tables()\n",
    "\n",
    "  for table in table_list:\n",
    "    restore_uncleaned_data(engine, table)"
   ]
  }
 ],
 "metadata": {
  "kernelspec": {
   "display_name": "Multi_proj",
   "language": "python",
   "name": "python3"
  },
  "language_info": {
   "codemirror_mode": {
    "name": "ipython",
    "version": 3
   },
   "file_extension": ".py",
   "mimetype": "text/x-python",
   "name": "python",
   "nbconvert_exporter": "python",
   "pygments_lexer": "ipython3",
   "version": "3.12.4"
  }
 },
 "nbformat": 4,
 "nbformat_minor": 2
}
